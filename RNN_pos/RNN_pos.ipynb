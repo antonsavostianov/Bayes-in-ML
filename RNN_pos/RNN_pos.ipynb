{
  "nbformat": 4,
  "nbformat_minor": 0,
  "metadata": {
    "kernelspec": {
      "display_name": "Python 3",
      "language": "python",
      "name": "python3"
    },
    "language_info": {
      "codemirror_mode": {
        "name": "ipython",
        "version": 3
      },
      "file_extension": ".py",
      "mimetype": "text/x-python",
      "name": "python",
      "nbconvert_exporter": "python",
      "pygments_lexer": "ipython3",
      "version": "3.6.5"
    },
    "colab": {
      "name": "RNN example.ipynb",
      "provenance": [],
      "collapsed_sections": []
    }
  },
  "cells": [
    {
      "cell_type": "markdown",
      "metadata": {
        "collapsed": true,
        "id": "Tk-oKpuS2-oY"
      },
      "source": [
        "## Part Of Speech Tagging\n",
        "\n",
        "<img src=https://i.stack.imgur.com/6pdIT.png width=320>\n",
        "\n",
        "Unlike our previous experience with language modelling, this time around we learn the mapping between two different kinds of elements.\n",
        "\n",
        "This setting is common for a range of useful problems:\n",
        "* Speech Recognition - processing human voice into text\n",
        "* Part Of Speech Tagging - for morphology-aware search and as an auxuliary task for most NLP problems\n",
        "* Named Entity Recognition - for chat bots and web crawlers\n",
        "* Protein structure prediction - for bioinformatics\n",
        "\n",
        "Our current guest is part-of-speech tagging. As the name suggests, it's all about converting a sequence of words into a sequence of part-of-speech tags. We'll use a reduced tag set for simplicity:\n",
        "\n",
        "### POS-tags\n",
        "- ADJ - adjective (new, good, high, ...)\n",
        "- ADP - adposition\t(on, of, at, ...)\n",
        "- ADV - adverb\t(really, already, still, ...)\n",
        "- CONJ\t- conjunction\t(and, or, but, ...)\n",
        "- DET - determiner, article\t(the, a, some, ...)\n",
        "- NOUN\t- noun\t(year, home, costs, ...)\n",
        "- NUM - numeral\t(twenty-four, fourth, 1991, ...)\n",
        "- PRT -\tparticle (at, on, out, ...)\n",
        "- PRON - pronoun (he, their, her, ...)\n",
        "- VERB - verb (is, say, told, ...)\n",
        "- .\t- punctuation marks\t(. , ;)\n",
        "- X\t- other\t(ersatz, esprit, dunno, ...)"
      ]
    },
    {
      "cell_type": "code",
      "metadata": {
        "scrolled": true,
        "id": "-u6C1Wjq2-oY",
        "colab": {
          "base_uri": "https://localhost:8080/"
        },
        "outputId": "49dc9471-4d68-4845-f35b-92c6ea7cbc26"
      },
      "source": [
        "import nltk\n",
        "import sys\n",
        "import numpy as np\n",
        "nltk.download('brown')\n",
        "nltk.download('universal_tagset')\n",
        "data = nltk.corpus.brown.tagged_sents(tagset='universal')\n",
        "all_tags = ['#EOS#','#UNK#','ADV', 'NOUN', 'ADP', 'PRON', 'DET', '.', 'PRT', 'VERB', 'X', 'NUM', 'CONJ', 'ADJ']\n",
        "\n",
        "data = np.array([ [(word.lower(),tag) for word,tag in sentence] for sentence in data ])"
      ],
      "execution_count": 1,
      "outputs": [
        {
          "output_type": "stream",
          "text": [
            "[nltk_data] Downloading package brown to /root/nltk_data...\n",
            "[nltk_data]   Package brown is already up-to-date!\n",
            "[nltk_data] Downloading package universal_tagset to /root/nltk_data...\n",
            "[nltk_data]   Package universal_tagset is already up-to-date!\n"
          ],
          "name": "stdout"
        }
      ]
    },
    {
      "cell_type": "code",
      "metadata": {
        "id": "ptxTsneA5Bb8",
        "colab": {
          "base_uri": "https://localhost:8080/"
        },
        "outputId": "cd9fa7bf-5c7c-41e8-c5f7-22e180bd3556"
      },
      "source": [
        "data[5]"
      ],
      "execution_count": 2,
      "outputs": [
        {
          "output_type": "execute_result",
          "data": {
            "text/plain": [
              "[('it', 'PRON'),\n",
              " ('recommended', 'VERB'),\n",
              " ('that', 'ADP'),\n",
              " ('fulton', 'NOUN'),\n",
              " ('legislators', 'NOUN'),\n",
              " ('act', 'VERB'),\n",
              " ('``', '.'),\n",
              " ('to', 'PRT'),\n",
              " ('have', 'VERB'),\n",
              " ('these', 'DET'),\n",
              " ('laws', 'NOUN'),\n",
              " ('studied', 'VERB'),\n",
              " ('and', 'CONJ'),\n",
              " ('revised', 'VERB'),\n",
              " ('to', 'ADP'),\n",
              " ('the', 'DET'),\n",
              " ('end', 'NOUN'),\n",
              " ('of', 'ADP'),\n",
              " ('modernizing', 'VERB'),\n",
              " ('and', 'CONJ'),\n",
              " ('improving', 'VERB'),\n",
              " ('them', 'PRON'),\n",
              " (\"''\", '.'),\n",
              " ('.', '.')]"
            ]
          },
          "metadata": {
            "tags": []
          },
          "execution_count": 2
        }
      ]
    },
    {
      "cell_type": "code",
      "metadata": {
        "id": "B3XzapSN2-oc"
      },
      "source": [
        "#from sklearn.cross_validation import train_test_split\n",
        "\n",
        "from sklearn.model_selection import train_test_split\n",
        "train_data,test_data = train_test_split(data,test_size=0.25,random_state=42)"
      ],
      "execution_count": 3,
      "outputs": []
    },
    {
      "cell_type": "code",
      "metadata": {
        "id": "92yQCwud6WAb",
        "colab": {
          "base_uri": "https://localhost:8080/"
        },
        "outputId": "818b4499-294d-4ea1-94ba-39ec14fc5238"
      },
      "source": [
        "print(type(train_data), train_data.shape)\n",
        "print(type(test_data), test_data.shape)"
      ],
      "execution_count": 4,
      "outputs": [
        {
          "output_type": "stream",
          "text": [
            "<class 'numpy.ndarray'> (43005,)\n",
            "<class 'numpy.ndarray'> (14335,)\n"
          ],
          "name": "stdout"
        }
      ]
    },
    {
      "cell_type": "code",
      "metadata": {
        "id": "0SsilMYz2-of",
        "colab": {
          "base_uri": "https://localhost:8080/",
          "height": 103
        },
        "outputId": "c206c857-0524-44e2-bb1d-805e2b7ec5f9"
      },
      "source": [
        "from IPython.display import HTML, display\n",
        "def draw(sentence):\n",
        "    words,tags = zip(*sentence)\n",
        "    display(HTML('<table><tr>{tags}</tr>{words}<tr></table>'.format(\n",
        "                words = '<td>{}</td>'.format('</td><td>'.join(words)),\n",
        "                tags = '<td>{}</td>'.format('</td><td>'.join(tags)))))\n",
        "    \n",
        "    \n",
        "\n",
        "draw(data[10])\n",
        "draw(data[7])"
      ],
      "execution_count": 5,
      "outputs": [
        {
          "output_type": "display_data",
          "data": {
            "text/html": [
              "<table><tr><td>PRON</td><td>VERB</td><td>ADP</td><td>DET</td><td>NOUN</td><td>.</td><td>VERB</td><td>NOUN</td><td>PRT</td><td>VERB</td><td>.</td><td>DET</td><td>NOUN</td><td>.</td></tr><td>it</td><td>urged</td><td>that</td><td>the</td><td>city</td><td>``</td><td>take</td><td>steps</td><td>to</td><td>remedy</td><td>''</td><td>this</td><td>problem</td><td>.</td><tr></table>"
            ],
            "text/plain": [
              "<IPython.core.display.HTML object>"
            ]
          },
          "metadata": {
            "tags": []
          }
        },
        {
          "output_type": "display_data",
          "data": {
            "text/html": [
              "<table><tr><td>NOUN</td><td>VERB</td></tr><td>merger</td><td>proposed</td><tr></table>"
            ],
            "text/plain": [
              "<IPython.core.display.HTML object>"
            ]
          },
          "metadata": {
            "tags": []
          }
        }
      ]
    },
    {
      "cell_type": "markdown",
      "metadata": {
        "id": "9_cusSFy8cR0"
      },
      "source": [
        "https://docs.python.org/3/library/functions.html#zip"
      ]
    },
    {
      "cell_type": "markdown",
      "metadata": {
        "id": "iEcSNx0R2-oi"
      },
      "source": [
        "### Building vocabularies\n",
        "\n",
        "Just like before, we have to build a mapping from tokens to integer ids. This time around, our model operates on a word level, processing one word per RNN step. This means we'll have to deal with far larger vocabulary.\n",
        "\n",
        "Luckily for us, we only receive those words as input i.e. we don't have to predict them. This means we can have a large vocabulary for free by using word embeddings."
      ]
    },
    {
      "cell_type": "markdown",
      "metadata": {
        "id": "EDD87RnGKREM"
      },
      "source": [
        "https://docs.python.org/2/library/collections.html#collections.Counter"
      ]
    },
    {
      "cell_type": "code",
      "metadata": {
        "id": "UgaSlWs02-oi",
        "colab": {
          "base_uri": "https://localhost:8080/"
        },
        "outputId": "5be30099-8123-4913-e4f5-e594fbf7f3eb"
      },
      "source": [
        "from collections import Counter\n",
        "word_counts = Counter()\n",
        "for sentence in data:\n",
        "    words,tags = zip(*sentence)\n",
        "    word_counts.update(words)\n",
        "\n",
        "all_words = ['#EOS#','#UNK#']+list(list(zip(*word_counts.most_common(10000)))[0])\n",
        "\n",
        "#let's measure what fraction of data words are in the dictionary\n",
        "print(\"Coverage = {}\".format(\n",
        "                            round(\n",
        "                                  float(sum(word_counts[w] for w in all_words)) / sum(word_counts.values()),\n",
        "                                  2)\n",
        "                            )\n",
        ")"
      ],
      "execution_count": 6,
      "outputs": [
        {
          "output_type": "stream",
          "text": [
            "Coverage = 0.93\n"
          ],
          "name": "stdout"
        }
      ]
    },
    {
      "cell_type": "code",
      "metadata": {
        "id": "ZVK1dWo3HZ1D"
      },
      "source": [
        "word_counts.values()"
      ],
      "execution_count": null,
      "outputs": []
    },
    {
      "cell_type": "markdown",
      "metadata": {
        "id": "gO_TzXLYKca4"
      },
      "source": [
        "https://docs.python.org/2/library/collections.html#collections.defaultdict"
      ]
    },
    {
      "cell_type": "code",
      "metadata": {
        "id": "TkrEEo4w2-ol"
      },
      "source": [
        "from collections import defaultdict\n",
        "word_to_id = defaultdict(lambda:1,{word:i for i,word in enumerate(all_words)})\n",
        "tag_to_id = {tag:i for i,tag in enumerate(all_tags)}"
      ],
      "execution_count": 8,
      "outputs": []
    },
    {
      "cell_type": "markdown",
      "metadata": {
        "id": "8Ak4_-Q32-oo"
      },
      "source": [
        "convert words and tags into fixed-size matrix:\r\n",
        "\r\n",
        "the max len from the lines is chosen.\r\n",
        "\r\n",
        "tokens from lines are subbed by the ids. \r\n",
        "\r\n",
        "lines shorter then len_max are complemented by 0s. "
      ]
    },
    {
      "cell_type": "code",
      "metadata": {
        "id": "FypuUCC72-op"
      },
      "source": [
        "def to_matrix(lines,token_to_id,max_len=None,pad=0,dtype='int32',time_major=False):\n",
        "    \"\"\"Converts a list of names into rnn-digestable matrix with paddings added after the end\"\"\"\n",
        "    \n",
        "    max_len = max_len or max(map(len,lines))\n",
        "    matrix = np.empty([len(lines),max_len],dtype)\n",
        "    matrix.fill(pad)\n",
        "\n",
        "    for i in range(len(lines)):\n",
        "        line_ix = list(map(token_to_id.__getitem__,lines[i]))[:max_len]\n",
        "        matrix[i,:len(line_ix)] = line_ix\n",
        "\n",
        "    return matrix.T if time_major else matrix"
      ],
      "execution_count": 9,
      "outputs": []
    },
    {
      "cell_type": "code",
      "metadata": {
        "id": "fdNFyCVJ2-ot",
        "colab": {
          "base_uri": "https://localhost:8080/"
        },
        "outputId": "d8ce2cac-133e-40eb-c047-c3567c1a26ef"
      },
      "source": [
        "batch_words,batch_tags = zip(*[zip(*sentence) for sentence in data[-3:]])\n",
        "\n",
        "#print(\"Word ids:\")\n",
        "#print(to_matrix(batch_words,word_to_id))\n",
        "print(\"Tag ids:\")\n",
        "batch_tags_ids = to_matrix(batch_tags,tag_to_id)\n",
        "print(type(batch_tags_ids))\n",
        "print(batch_tags_ids.shape)\n",
        "print(batch_tags_ids)"
      ],
      "execution_count": 10,
      "outputs": [
        {
          "output_type": "stream",
          "text": [
            "Tag ids:\n",
            "<class 'numpy.ndarray'>\n",
            "(3, 53)\n",
            "[[ 6  3  4  6  3  3  9  9  7 12  4  5  9  4  6  3 12  7  9  7  9  8  4  6\n",
            "   3  7  6 13  3  4  6  3  9  4  3  7  0  0  0  0  0  0  0  0  0  0  0  0\n",
            "   0  0  0  0  0]\n",
            " [ 5  9  6  9  3 12  6  3  7  6 13  3  7  6 13  3  7 13  7  5  9  6  3  3\n",
            "   4  6 13  3  7 12  6  3  6 13  3  7  4  6  3  9  3  7  9  4  6 13  3  9\n",
            "   6  3  2 13  7]\n",
            " [ 4  6  5  9 13  4  3  4  6 13  7 13  3  7  6  3  4  6 13  3  3  9  9  7\n",
            "   0  0  0  0  0  0  0  0  0  0  0  0  0  0  0  0  0  0  0  0  0  0  0  0\n",
            "   0  0  0  0  0]]\n"
          ],
          "name": "stdout"
        }
      ]
    },
    {
      "cell_type": "markdown",
      "metadata": {
        "collapsed": true,
        "id": "eAHJB58K2-ow"
      },
      "source": [
        "### Build model\n",
        "\n",
        "We'll focus on a high-level keras interface to recurrent neural networks. It is as simple as you can get with RNN, allbeit somewhat constraining for complex tasks like seq2seq.\n",
        "\n",
        "By default, all keras RNNs apply to a whole sequence of inputs and produce a sequence of hidden states `(return_sequences=True` or just the last hidden state `(return_sequences=False)`. All the recurrence is happening under the hood.\n",
        "\n",
        "At the top of our model we need to apply a Dense layer to each time-step independently. As of now, by default keras.layers.Dense would apply once to all time-steps concatenated. We use __keras.layers.TimeDistributed__ to modify Dense layer so that it would apply across both batch and time axes."
      ]
    },
    {
      "cell_type": "markdown",
      "metadata": {
        "id": "7CfVtgM7ojy1"
      },
      "source": [
        "## Simple RNN"
      ]
    },
    {
      "cell_type": "code",
      "metadata": {
        "id": "_5bWB8B8igfq"
      },
      "source": [
        "import tensorflow as tf\n",
        "from tensorflow import keras\n",
        "import tensorflow.keras.layers as L\n",
        "import tensorflow.keras.backend as K\n",
        "import tensorflow.keras.utils as U"
      ],
      "execution_count": 11,
      "outputs": []
    },
    {
      "cell_type": "markdown",
      "metadata": {
        "id": "f71MqzrY2-oz"
      },
      "source": [
        "__Training:__ in this case we don't want to prepare the whole training dataset in advance. The main cause is that the length of every batch depends on the maximum sentence length within the batch. This leaves us two options: use custom training code as in previous seminar or use generators.\n",
        "\n",
        "Keras models have a __`model.fit_generator`__ method that accepts a python generator yielding one batch at a time. But first we need to implement such generator:"
      ]
    },
    {
      "cell_type": "code",
      "metadata": {
        "id": "x-ppfJJq2-o0"
      },
      "source": [
        "from tensorflow.keras.utils import to_categorical\n",
        "\n",
        "BATCH_SIZE=32\n",
        "def generate_batches(sentences,batch_size=BATCH_SIZE,max_len=None,pad=0):\n",
        "  assert isinstance(sentences,np.ndarray),\"Make sure sentences is a numpy array\"\n",
        "    \n",
        "  while True:\n",
        "    indices = np.random.permutation(np.arange(len(sentences)))\n",
        "    for start in range(0,len(indices)-1,batch_size):\n",
        "        batch_indices = indices[start:start+batch_size]\n",
        "        batch_words,batch_tags = [],[]\n",
        "        for sent in sentences[batch_indices]:\n",
        "            words,tags = zip(*sent)\n",
        "            batch_words.append(words)\n",
        "            batch_tags.append(tags)\n",
        "\n",
        "        batch_words = to_matrix(batch_words,word_to_id,max_len,pad)\n",
        "        batch_tags = to_matrix(batch_tags,tag_to_id,max_len,pad)\n",
        "\n",
        "        batch_tags_1hot = to_categorical(batch_tags,len(all_tags)).reshape(batch_tags.shape+(-1,))\n",
        "            \n",
        "        #print(batch_tags_1hot.shape)\n",
        "            \n",
        "        yield (batch_words, batch_tags_1hot)         "
      ],
      "execution_count": 12,
      "outputs": []
    },
    {
      "cell_type": "code",
      "metadata": {
        "id": "qFJUEE_5gLN4"
      },
      "source": [
        "gen = generate_batches(data[:35]) \n",
        "print(gen.__next__())"
      ],
      "execution_count": null,
      "outputs": []
    },
    {
      "cell_type": "code",
      "metadata": {
        "id": "FyAj2cytdwgK",
        "colab": {
          "base_uri": "https://localhost:8080/"
        },
        "outputId": "333c716d-105f-4221-e635-6366f63776ed"
      },
      "source": [
        "print(batch_tags_ids.shape)\n",
        "batch_tags_ids_1hot = to_categorical(batch_tags_ids,len(all_tags))\n",
        "print(batch_tags_ids_1hot.shape)\n",
        "print(batch_tags_ids.shape + (-1,))"
      ],
      "execution_count": 14,
      "outputs": [
        {
          "output_type": "stream",
          "text": [
            "(3, 53)\n",
            "(3, 53, 14)\n",
            "(3, 53, -1)\n"
          ],
          "name": "stdout"
        }
      ]
    },
    {
      "cell_type": "markdown",
      "metadata": {
        "id": "cPJZkbO-2-o2"
      },
      "source": [
        "__Callbacks:__  Keras callbacks allow you to write a custom code to be ran once every epoch or every minibatch. We'll define a custom callback to measure the accuracy of the predicitons."
      ]
    },
    {
      "cell_type": "code",
      "metadata": {
        "id": "nJg0MQi42-o3"
      },
      "source": [
        "def compute_test_accuracy(model):\n",
        "    test_words,test_tags = zip(*[zip(*sentence) for sentence in test_data])\n",
        "    test_words,test_tags = to_matrix(test_words,word_to_id),to_matrix(test_tags,tag_to_id)\n",
        "\n",
        "    #predict tag probabilities of shape [batch,time,n_tags]\n",
        "    predicted_tag_probabilities = model.predict(test_words,verbose=1)\n",
        "    predicted_tags = predicted_tag_probabilities.argmax(axis=-1)\n",
        "\n",
        "    #compute accurary excluding padding\n",
        "    numerator = np.sum(np.logical_and((predicted_tags == test_tags),(test_words != 0)))\n",
        "    denominator = np.sum(test_words != 0)\n",
        "    return float(numerator)/denominator\n",
        "\n",
        "\n",
        "class EvaluateAccuracy(tf.keras.callbacks.Callback):\n",
        "    def on_epoch_end(self,epoch,logs=None):\n",
        "        sys.stdout.flush()\n",
        "        print(\"\\nMeasuring validation accuracy...\")\n",
        "        acc = compute_test_accuracy(self.model)\n",
        "        print(\"\\nValidation accuracy: {}\\n\".format(acc))\n",
        "        sys.stdout.flush()\n",
        "        "
      ],
      "execution_count": 15,
      "outputs": []
    },
    {
      "cell_type": "code",
      "metadata": {
        "id": "4MKNcHO62-ox"
      },
      "source": [
        "K.clear_session()\n",
        "\n",
        "model = tf.keras.Sequential()\n",
        "model.add(L.InputLayer([None],dtype='int32'))\n",
        "model.add(L.Embedding(len(all_words),50))\n",
        "model.add(L.SimpleRNN(64,return_sequences=True))\n",
        "\n",
        "#add top layer that predicts tag probabilities\n",
        "stepwise_dense = L.Dense(len(all_tags),activation='softmax')\n",
        "stepwise_dense = L.TimeDistributed(stepwise_dense)\n",
        "model.add(stepwise_dense)\n",
        "\n",
        "#keras.utils.plot_model"
      ],
      "execution_count": 16,
      "outputs": []
    },
    {
      "cell_type": "code",
      "metadata": {
        "id": "j7hNKMARgVaJ",
        "colab": {
          "base_uri": "https://localhost:8080/",
          "height": 422
        },
        "outputId": "cd3ac1bb-c1e0-41ea-f0cf-2a6f88624874"
      },
      "source": [
        "U.plot_model(model, show_shapes = True, expand_nested=True)"
      ],
      "execution_count": 17,
      "outputs": [
        {
          "output_type": "execute_result",
          "data": {
            "image/png": "[encoded data removed]",
            "text/plain": [
              "<IPython.core.display.Image object>"
            ]
          },
          "metadata": {
            "tags": []
          },
          "execution_count": 17
        }
      ]
    },
    {
      "cell_type": "code",
      "metadata": {
        "id": "4DWFxGPBgSKg",
        "colab": {
          "base_uri": "https://localhost:8080/"
        },
        "outputId": "56ca5270-19f9-4730-9308-46ca73681807"
      },
      "source": [
        "model.summary()"
      ],
      "execution_count": 18,
      "outputs": [
        {
          "output_type": "stream",
          "text": [
            "Model: \"sequential\"\n",
            "_________________________________________________________________\n",
            "Layer (type)                 Output Shape              Param #   \n",
            "=================================================================\n",
            "embedding (Embedding)        (None, None, 50)          500100    \n",
            "_________________________________________________________________\n",
            "simple_rnn (SimpleRNN)       (None, None, 64)          7360      \n",
            "_________________________________________________________________\n",
            "time_distributed (TimeDistri (None, None, 14)          910       \n",
            "=================================================================\n",
            "Total params: 508,370\n",
            "Trainable params: 508,370\n",
            "Non-trainable params: 0\n",
            "_________________________________________________________________\n"
          ],
          "name": "stdout"
        }
      ]
    },
    {
      "cell_type": "markdown",
      "metadata": {
        "id": "w0uD9trHwnEI"
      },
      "source": [
        "https://www.tensorflow.org/api_docs/python/tf/keras/utils/plot_model"
      ]
    },
    {
      "cell_type": "code",
      "metadata": {
        "id": "HBmZiaS12-o5",
        "colab": {
          "base_uri": "https://localhost:8080/"
        },
        "outputId": "10446608-c7b1-485f-efe7-b132bf5b5c3a"
      },
      "source": [
        "model.compile('adam','categorical_crossentropy')\n",
        "\n",
        "model.fit( x=generate_batches(train_data), steps_per_epoch = len(train_data)/BATCH_SIZE,\n",
        "          callbacks=[EvaluateAccuracy()], \n",
        "          epochs=5)"
      ],
      "execution_count": 19,
      "outputs": [
        {
          "output_type": "stream",
          "text": [
            "Epoch 1/5\n",
            "1344/1343 [==============================] - ETA: 0s - loss: 0.2421\n",
            "Measuring validation accuracy...\n",
            "448/448 [==============================] - 6s 13ms/step\n",
            "\n",
            "Validation accuracy: 0.9393394820101284\n",
            "\n",
            "1344/1343 [==============================] - 36s 27ms/step - loss: 0.2421\n",
            "Epoch 2/5\n",
            "1342/1343 [============================>.] - ETA: 0s - loss: 0.0582\n",
            "Measuring validation accuracy...\n",
            "448/448 [==============================] - 6s 13ms/step\n",
            "\n",
            "Validation accuracy: 0.9442315703224785\n",
            "\n",
            "1344/1343 [==============================] - 36s 26ms/step - loss: 0.0583\n",
            "Epoch 3/5\n",
            "1343/1343 [============================>.] - ETA: 0s - loss: 0.0515\n",
            "Measuring validation accuracy...\n",
            "448/448 [==============================] - 6s 13ms/step\n",
            "\n",
            "Validation accuracy: 0.9455466848441658\n",
            "\n",
            "1344/1343 [==============================] - 36s 27ms/step - loss: 0.0515\n",
            "Epoch 4/5\n",
            "1343/1343 [============================>.] - ETA: 0s - loss: 0.0470\n",
            "Measuring validation accuracy...\n",
            "448/448 [==============================] - 6s 13ms/step\n",
            "\n",
            "Validation accuracy: 0.9462489973112449\n",
            "\n",
            "1344/1343 [==============================] - 36s 27ms/step - loss: 0.0470\n",
            "Epoch 5/5\n",
            "1344/1343 [==============================] - ETA: 0s - loss: 0.0434\n",
            "Measuring validation accuracy...\n",
            "448/448 [==============================] - 6s 13ms/step\n",
            "\n",
            "Validation accuracy: 0.9454330754744913\n",
            "\n",
            "1344/1343 [==============================] - 36s 27ms/step - loss: 0.0434\n"
          ],
          "name": "stdout"
        },
        {
          "output_type": "execute_result",
          "data": {
            "text/plain": [
              "<tensorflow.python.keras.callbacks.History at 0x7fd28ad1da90>"
            ]
          },
          "metadata": {
            "tags": []
          },
          "execution_count": 19
        }
      ]
    },
    {
      "cell_type": "markdown",
      "metadata": {
        "id": "U4pxyX-W2-o7"
      },
      "source": [
        "Measure final accuracy on the whole test set."
      ]
    },
    {
      "cell_type": "code",
      "metadata": {
        "id": "ASO__KyX2-o7",
        "colab": {
          "base_uri": "https://localhost:8080/"
        },
        "outputId": "638c30ab-c95d-40d0-a664-153ec706114c"
      },
      "source": [
        "acc = compute_test_accuracy(model)\n",
        "print(\"Final accuracy: {}\\n\".format(acc))\n",
        "\n",
        "assert acc>0.94, \"Keras has gone on a rampage again.\""
      ],
      "execution_count": 20,
      "outputs": [
        {
          "output_type": "stream",
          "text": [
            "448/448 [==============================] - 6s 13ms/step\n",
            "Final accuracy: 0.9454330754744913\n",
            "\n"
          ],
          "name": "stdout"
        }
      ]
    },
    {
      "cell_type": "code",
      "metadata": {
        "colab": {
          "base_uri": "https://localhost:8080/",
          "height": 60
        },
        "id": "nfH-VIvIO06i",
        "outputId": "4b060ec9-30c3-4dc5-c8fa-cfe0729e410c"
      },
      "source": [
        "draw(test_data[1])"
      ],
      "execution_count": 23,
      "outputs": [
        {
          "output_type": "display_data",
          "data": {
            "text/html": [
              "<table><tr><td>CONJ</td><td>PRON</td><td>VERB</td><td>PRON</td><td>VERB</td><td>NOUN</td><td>NOUN</td><td>.</td></tr><td>and</td><td>you</td><td>think</td><td>you</td><td>have</td><td>language</td><td>problems</td><td>.</td><tr></table>"
            ],
            "text/plain": [
              "<IPython.core.display.HTML object>"
            ]
          },
          "metadata": {
            "tags": []
          }
        }
      ]
    },
    {
      "cell_type": "markdown",
      "metadata": {
        "id": "LMh97dc92-o9"
      },
      "source": [
        "### Getting all bidirectional\n",
        "\n",
        "Since we're analyzing a full sequence, it's legal for us to look into future data.\n",
        "\n",
        "A simple way to achieve that is to go both directions at once, making a __bidirectional RNN__.\n",
        "\n",
        "In Keras you can achieve that both manually (using two LSTMs and Concatenate) and by using __`keras.layers.Bidirectional`__. \n",
        "\n",
        "This one works just as `TimeDistributed` we saw before: you wrap it around a recurrent layer (SimpleRNN) and it actually creates two layers under the hood."
      ]
    },
    {
      "cell_type": "markdown",
      "metadata": {
        "id": "oxwwDfw3opo3"
      },
      "source": [
        "## Simple RNN Bidirectional"
      ]
    },
    {
      "cell_type": "code",
      "metadata": {
        "id": "Iu_VbB-O2-o-",
        "colab": {
          "base_uri": "https://localhost:8080/"
        },
        "outputId": "8af0fc18-b611-4a88-820e-beeb1b208c6e"
      },
      "source": [
        "#Define a model that utilizes bidirectional SimpleRNN\n",
        "\n",
        "K.clear_session()\n",
        "\n",
        "model2 = tf.keras.Sequential()\n",
        "model2.add(L.InputLayer([None],dtype='int32'))\n",
        "model2.add(L.Embedding(len(all_words),50))\n",
        "\n",
        "# Concatenate(SimpleRNN(inp),SimpleRNN(reverse_inp))\n",
        "model2.add(L.Bidirectional(L.SimpleRNN(64,return_sequences=True)))\n",
        "# we can sub SimpleRNN by LSTM or GRU\n",
        "#model2.add(L.Bidirectional(L.GRU(64,return_sequences=True)))\n",
        "\n",
        "\n",
        "#add top layer that predicts tag probabilities\n",
        "stepwise_dense2 = L.Dense(len(all_tags),activation='softmax')\n",
        "stepwise_dense2 = L.TimeDistributed(stepwise_dense2)\n",
        "model2.add(stepwise_dense2)\n",
        "\n",
        "model2.summary()"
      ],
      "execution_count": 24,
      "outputs": [
        {
          "output_type": "stream",
          "text": [
            "Model: \"sequential\"\n",
            "_________________________________________________________________\n",
            "Layer (type)                 Output Shape              Param #   \n",
            "=================================================================\n",
            "embedding (Embedding)        (None, None, 50)          500100    \n",
            "_________________________________________________________________\n",
            "bidirectional (Bidirectional (None, None, 128)         14720     \n",
            "_________________________________________________________________\n",
            "time_distributed (TimeDistri (None, None, 14)          1806      \n",
            "=================================================================\n",
            "Total params: 516,626\n",
            "Trainable params: 516,626\n",
            "Non-trainable params: 0\n",
            "_________________________________________________________________\n"
          ],
          "name": "stdout"
        }
      ]
    },
    {
      "cell_type": "code",
      "metadata": {
        "id": "OlzeDM1O2-pA",
        "colab": {
          "base_uri": "https://localhost:8080/"
        },
        "outputId": "c4296ebe-2930-4ed5-b7b3-cb6fe4f9e011"
      },
      "source": [
        "model2.compile('adam','categorical_crossentropy')\n",
        "\n",
        "model2.fit(x = generate_batches(train_data), steps_per_epoch = len(train_data)/BATCH_SIZE,\n",
        "           callbacks=[EvaluateAccuracy()], \n",
        "           epochs=5)"
      ],
      "execution_count": 25,
      "outputs": [
        {
          "output_type": "stream",
          "text": [
            "Epoch 1/5\n",
            "1344/1343 [==============================] - ETA: 0s - loss: 0.2040\n",
            "Measuring validation accuracy...\n",
            "448/448 [==============================] - 10s 23ms/step\n",
            "\n",
            "Validation accuracy: 0.955713002075953\n",
            "\n",
            "1344/1343 [==============================] - 54s 40ms/step - loss: 0.2040\n",
            "Epoch 2/5\n",
            "1344/1343 [==============================] - ETA: 0s - loss: 0.0424\n",
            "Measuring validation accuracy...\n",
            "448/448 [==============================] - 10s 22ms/step\n",
            "\n",
            "Validation accuracy: 0.9605844341392713\n",
            "\n",
            "1344/1343 [==============================] - 55s 41ms/step - loss: 0.0424\n",
            "Epoch 3/5\n",
            "1343/1343 [============================>.] - ETA: 0s - loss: 0.0353\n",
            "Measuring validation accuracy...\n",
            "448/448 [==============================] - 10s 23ms/step\n",
            "\n",
            "Validation accuracy: 0.9621439809411676\n",
            "\n",
            "1344/1343 [==============================] - 54s 40ms/step - loss: 0.0353\n",
            "Epoch 4/5\n",
            "1343/1343 [============================>.] - ETA: 0s - loss: 0.0296\n",
            "Measuring validation accuracy...\n",
            "448/448 [==============================] - 10s 23ms/step\n",
            "\n",
            "Validation accuracy: 0.9620785694859004\n",
            "\n",
            "1344/1343 [==============================] - 55s 41ms/step - loss: 0.0296\n",
            "Epoch 5/5\n",
            "1344/1343 [==============================] - ETA: 0s - loss: 0.0249\n",
            "Measuring validation accuracy...\n",
            "448/448 [==============================] - 10s 22ms/step\n",
            "\n",
            "Validation accuracy: 0.9605603351820676\n",
            "\n",
            "1344/1343 [==============================] - 54s 40ms/step - loss: 0.0249\n"
          ],
          "name": "stdout"
        },
        {
          "output_type": "execute_result",
          "data": {
            "text/plain": [
              "<tensorflow.python.keras.callbacks.History at 0x7fd280e1ba20>"
            ]
          },
          "metadata": {
            "tags": []
          },
          "execution_count": 25
        }
      ]
    },
    {
      "cell_type": "code",
      "metadata": {
        "id": "ap9dZRVq2-pC",
        "colab": {
          "base_uri": "https://localhost:8080/"
        },
        "outputId": "592c2262-fca4-45aa-e094-fb8bd55e5b39"
      },
      "source": [
        "acc = compute_test_accuracy(model2)\n",
        "print(\"\\nFinal accuracy: %.5f\"%acc)\n",
        "\n",
        "assert acc>0.96, \"Bidirectional RNNs are better than this!\"\n",
        "print(\"Well done!\")"
      ],
      "execution_count": 26,
      "outputs": [
        {
          "output_type": "stream",
          "text": [
            "448/448 [==============================] - 10s 23ms/step\n",
            "\n",
            "Final accuracy: 0.96056\n",
            "Well done!\n"
          ],
          "name": "stdout"
        }
      ]
    }
  ]
}
